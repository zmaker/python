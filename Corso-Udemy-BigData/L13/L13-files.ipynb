{
 "cells": [
  {
   "cell_type": "markdown",
   "metadata": {},
   "source": [
    "## File di testo ##\n",
    "creo un file di testo"
   ]
  },
  {
   "cell_type": "code",
   "execution_count": 13,
   "metadata": {},
   "outputs": [],
   "source": [
    "f = open(\"miofile.txt\", 'w')\n",
    "f.write(\"hello\\n\")\n",
    "f.write(\"mele\")\n",
    "f.write(\" \")\n",
    "f.write(\"10 kg\\n\")\n",
    "f.close()"
   ]
  },
  {
   "cell_type": "code",
   "execution_count": 14,
   "metadata": {},
   "outputs": [],
   "source": [
    "with open(\"miofile.txt\", 'w') as f:\n",
    "    f.write(\"hello world2 ! \\n\") "
   ]
  },
  {
   "cell_type": "code",
   "execution_count": 15,
   "metadata": {},
   "outputs": [],
   "source": [
    "with open(\"miofile.txt\", 'a') as f:\n",
    "    f.write(\"nuova linea\\n\") \n",
    "    f.write(\"--------\\n\") \n",
    "    f.write(\"nuova linea\\n\") "
   ]
  },
  {
   "cell_type": "code",
   "execution_count": 16,
   "metadata": {},
   "outputs": [
    {
     "name": "stdout",
     "output_type": "stream",
     "text": [
      "hello world2 ! \n",
      "nuova linea\n",
      "--------\n",
      "nuova linea\n",
      "\n"
     ]
    }
   ],
   "source": [
    "with open(\"miofile.txt\") as f:\n",
    "    testo = f.read()\n",
    "    print(testo)"
   ]
  },
  {
   "cell_type": "code",
   "execution_count": 17,
   "metadata": {},
   "outputs": [
    {
     "name": "stdout",
     "output_type": "stream",
     "text": [
      "n. linee:  4\n",
      "0 hello world2 ! \n",
      "1 nuova linea\n",
      "2 --------\n",
      "3 nuova linea\n"
     ]
    }
   ],
   "source": [
    "with open(\"miofile.txt\") as f:\n",
    "    linee = f.readlines()\n",
    "    print(\"n. linee: \", len(linee))\n",
    "    i = 0\n",
    "    for l in linee:\n",
    "        print(i, l, end='')\n",
    "        i += 1"
   ]
  },
  {
   "cell_type": "markdown",
   "metadata": {},
   "source": [
    "## flag ##\n",
    "* r - lettura (default)\n",
    "* w - scrive e se esiste lo distrugge\n",
    "* a - append\n",
    "* x - scrive un file ma se esiste dà errore\n",
    "* b - file binario\n",
    "* t - file di testo\n",
    "* \\+ - ibrido legge + scrive"
   ]
  },
  {
   "cell_type": "code",
   "execution_count": 20,
   "metadata": {},
   "outputs": [
    {
     "name": "stdout",
     "output_type": "stream",
     "text": [
      "il file esiste di già\n"
     ]
    }
   ],
   "source": [
    "try:\n",
    "    with open(\"miofile.txt\", 'x') as f:\n",
    "        f.write(\"provo ad aprire il file\")\n",
    "except FileExistsError:\n",
    "    print(\"il file esiste di già\")"
   ]
  },
  {
   "cell_type": "code",
   "execution_count": 21,
   "metadata": {},
   "outputs": [
    {
     "name": "stdout",
     "output_type": "stream",
     "text": [
      "hello\n"
     ]
    }
   ],
   "source": [
    "with open(\"miofile.txt\") as f:\n",
    "    testo = f.read(5)\n",
    "    print(testo)"
   ]
  },
  {
   "cell_type": "code",
   "execution_count": 22,
   "metadata": {},
   "outputs": [
    {
     "name": "stdout",
     "output_type": "stream",
     "text": [
      "hello worl\n",
      "pos: 10\n",
      "------\n",
      "hello worl\n"
     ]
    }
   ],
   "source": [
    "with open(\"miofile.txt\") as f:\n",
    "    print(f.read(10))\n",
    "    print(\"pos:\", f.tell())\n",
    "    print(\"------\")\n",
    "    f.seek(0)\n",
    "    print(f.read(10))"
   ]
  },
  {
   "cell_type": "markdown",
   "metadata": {},
   "source": [
    "## File binari ##"
   ]
  },
  {
   "cell_type": "code",
   "execution_count": 23,
   "metadata": {},
   "outputs": [],
   "source": [
    "with open(\"data.bin\", 'wb') as f:\n",
    "    num = [5, 10, 15, 20, 25]\n",
    "    arr = bytearray(num)\n",
    "    f.write(arr) "
   ]
  },
  {
   "cell_type": "code",
   "execution_count": 24,
   "metadata": {},
   "outputs": [
    {
     "name": "stdout",
     "output_type": "stream",
     "text": [
      "b'\\x05\\n\\x0f\\x14\\x19'\n"
     ]
    }
   ],
   "source": [
    "with open(\"data.bin\", 'rb') as f:\n",
    "    dati = f.read();\n",
    "    print(dati)"
   ]
  },
  {
   "cell_type": "code",
   "execution_count": 25,
   "metadata": {},
   "outputs": [
    {
     "name": "stdout",
     "output_type": "stream",
     "text": [
      "0: b'\\x05'\n",
      "1: b'\\n'\n",
      "2: b'\\x0f'\n",
      "3: b'\\x14'\n",
      "4: b'\\x19'\n"
     ]
    }
   ],
   "source": [
    "with open(\"data.bin\", 'rb') as f:\n",
    "    dato = f.read(1);\n",
    "    i = 0\n",
    "    while dato:\n",
    "        print(f\"{i}: {dato}\")\n",
    "        dato = f.read(1)\n",
    "        i += 1"
   ]
  }
 ],
 "metadata": {
  "kernelspec": {
   "display_name": "Python 3",
   "language": "python",
   "name": "python3"
  },
  "language_info": {
   "codemirror_mode": {
    "name": "ipython",
    "version": 3
   },
   "file_extension": ".py",
   "mimetype": "text/x-python",
   "name": "python",
   "nbconvert_exporter": "python",
   "pygments_lexer": "ipython3",
   "version": "3.12.3"
  }
 },
 "nbformat": 4,
 "nbformat_minor": 2
}
