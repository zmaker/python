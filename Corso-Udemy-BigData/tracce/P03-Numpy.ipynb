{
 "cells": [
  {
   "cell_type": "markdown",
   "metadata": {},
   "source": [
    "### NumPy\n",
    "Lavora con array, vettori e matrici.\n",
    "\n",
    "Se necessario la installiamo con pip install numpy. \n"
   ]
  },
  {
   "cell_type": "code",
   "execution_count": 107,
   "metadata": {},
   "outputs": [],
   "source": [
    "import numpy as np"
   ]
  },
  {
   "cell_type": "markdown",
   "metadata": {},
   "source": [
    "Creo un primo array."
   ]
  },
  {
   "cell_type": "code",
   "execution_count": 108,
   "metadata": {},
   "outputs": [
    {
     "data": {
      "text/plain": [
       "array([1, 2, 3, 4, 5, 6, 7, 8, 9])"
      ]
     },
     "execution_count": 108,
     "metadata": {},
     "output_type": "execute_result"
    }
   ],
   "source": [
    "v1 = np.array([1,2,3,4,5,6,7,8,9])\n",
    "v1"
   ]
  },
  {
   "cell_type": "markdown",
   "metadata": {},
   "source": [
    "Creo una matrice"
   ]
  },
  {
   "cell_type": "code",
   "execution_count": 109,
   "metadata": {},
   "outputs": [
    {
     "data": {
      "text/plain": [
       "array([[1, 2, 3],\n",
       "       [4, 5, 6],\n",
       "       [7, 8, 9]])"
      ]
     },
     "execution_count": 109,
     "metadata": {},
     "output_type": "execute_result"
    }
   ],
   "source": [
    "m1 = np.array([[1,2,3],[4,5,6],[7,8,9]])\n",
    "m1"
   ]
  },
  {
   "cell_type": "markdown",
   "metadata": {},
   "source": [
    "Per esaminare la struttura dei dati di numpy e capire se è una matrice, una lsta  un array usiamo shape:"
   ]
  },
  {
   "cell_type": "code",
   "execution_count": 110,
   "metadata": {},
   "outputs": [
    {
     "data": {
      "text/plain": [
       "(9,)"
      ]
     },
     "execution_count": 110,
     "metadata": {},
     "output_type": "execute_result"
    }
   ],
   "source": [
    "v1.shape"
   ]
  },
  {
   "cell_type": "code",
   "execution_count": 111,
   "metadata": {},
   "outputs": [
    {
     "data": {
      "text/plain": [
       "(3, 3)"
      ]
     },
     "execution_count": 111,
     "metadata": {},
     "output_type": "execute_result"
    }
   ],
   "source": [
    "m1.shape"
   ]
  },
  {
   "cell_type": "markdown",
   "metadata": {},
   "source": [
    "La proprietà shape si può usare per modificare la forma dei dati. Es. da una lista passo a una matrice. \n",
    "\n",
    "L'importante è che righe x colonne = numero elementi"
   ]
  },
  {
   "cell_type": "code",
   "execution_count": 112,
   "metadata": {},
   "outputs": [
    {
     "name": "stdout",
     "output_type": "stream",
     "text": [
      "prima forma: (9,)\n",
      "dopo la trasformazione: (3, 3)\n"
     ]
    }
   ],
   "source": [
    "v2 = np.array([1,2,3,4,5,6,7,8,9])\n",
    "print(\"prima forma:\", v2.shape)\n",
    "v2.shape=(3,3)\n",
    "print(\"dopo la trasformazione:\", v2.shape)"
   ]
  },
  {
   "cell_type": "markdown",
   "metadata": {},
   "source": [
    "Tutti gli elementi di una __lista np__ sono __sempre omogenei__ diversamente dalle liste in Python.\n",
    "\n",
    "_dtype_ riporta il tipo di dati della lista."
   ]
  },
  {
   "cell_type": "code",
   "execution_count": 113,
   "metadata": {},
   "outputs": [
    {
     "data": {
      "text/plain": [
       "dtype('int64')"
      ]
     },
     "execution_count": 113,
     "metadata": {},
     "output_type": "execute_result"
    }
   ],
   "source": [
    "v2.dtype"
   ]
  },
  {
   "cell_type": "markdown",
   "metadata": {},
   "source": [
    "Provo a inserire un numero con virgola nell'array _v2_. Purtroppo il tipo è definito e non è possibile modificarlo. L'elemento inserito perde la virgola.\n",
    "\n",
    "Vediamo anche come inserire un elemento in una posizione: basta usare le [] con gli indici."
   ]
  },
  {
   "cell_type": "code",
   "execution_count": 114,
   "metadata": {},
   "outputs": [
    {
     "name": "stdout",
     "output_type": "stream",
     "text": [
      "[[1 2 3]\n",
      " [4 3 6]\n",
      " [7 8 9]]\n"
     ]
    },
    {
     "data": {
      "text/plain": [
       "dtype('int64')"
      ]
     },
     "execution_count": 114,
     "metadata": {},
     "output_type": "execute_result"
    }
   ],
   "source": [
    "#non va?\n",
    "v2[1,1] = 3.3\n",
    "print(v2)\n",
    "v2.dtype"
   ]
  },
  {
   "cell_type": "markdown",
   "metadata": {},
   "source": [
    "Per modificare il tipo di dati creo un nuovo array passandogli l'array da copiare (v2) e il nuovo tip di dati."
   ]
  },
  {
   "cell_type": "code",
   "execution_count": 115,
   "metadata": {},
   "outputs": [
    {
     "name": "stdout",
     "output_type": "stream",
     "text": [
      "[[1.  2.  3. ]\n",
      " [4.  3.5 6. ]\n",
      " [7.  8.  9. ]]\n"
     ]
    },
    {
     "data": {
      "text/plain": [
       "dtype('float64')"
      ]
     },
     "execution_count": 115,
     "metadata": {},
     "output_type": "execute_result"
    }
   ],
   "source": [
    "y= np.array(v2, dtype=float)\n",
    "y[1,1] = 3.5\n",
    "print(y)\n",
    "y.dtype"
   ]
  },
  {
   "cell_type": "markdown",
   "metadata": {},
   "source": [
    "_dtype_ si può usare per forzare il tipo di dato dell'array una volta che è stato definito."
   ]
  },
  {
   "cell_type": "code",
   "execution_count": 118,
   "metadata": {},
   "outputs": [
    {
     "name": "stdout",
     "output_type": "stream",
     "text": [
      "il tipo prima:  int64\n",
      "il tipo dopo la modifica:  float64\n",
      "[4.9e-324 9.9e-324 1.5e-323 2.0e-323 2.5e-323]\n"
     ]
    }
   ],
   "source": [
    "a1 = np.array([1,2,3,4,5])\n",
    "print(\"il tipo prima: \", a1.dtype)\n",
    "a1.dtype = np.float64\n",
    "print(\"il tipo dopo la modifica: \", a1.dtype)\n",
    "print(a1)"
   ]
  },
  {
   "cell_type": "markdown",
   "metadata": {},
   "source": [
    "## tipi dato ##\n",
    "numpy gestisce tanti tipi di dato: int8/16/32, uint8/16/32/64, intp (per indexing) uintp (per puntatori), float32/64, complex64/128"
   ]
  },
  {
   "cell_type": "code",
   "execution_count": 120,
   "metadata": {},
   "outputs": [
    {
     "name": "stdout",
     "output_type": "stream",
     "text": [
      "[1.+1.j 2.+3.j 3.-2.j]\n",
      "somma di complessi:  (3+4j)\n"
     ]
    }
   ],
   "source": [
    "c1 = np.array([1+1j, 2+3j, 3-2j])\n",
    "print(c1)\n",
    "print(\"somma di complessi: \", (c1[0] + c1[1]))"
   ]
  },
  {
   "cell_type": "markdown",
   "metadata": {},
   "source": [
    "## operazioni ##\n"
   ]
  },
  {
   "cell_type": "code",
   "execution_count": 130,
   "metadata": {},
   "outputs": [
    {
     "name": "stdout",
     "output_type": "stream",
     "text": [
      "a+b [ 37  73 109 145]\n",
      "a-b [13 27 41 55]\n",
      "a*b [ 300 1150 2550 4500]\n",
      "a * 0.5 (modifica tipo):  [12.5 25.  37.5 50. ]\n",
      "confronto a > 60 [False False  True  True]\n"
     ]
    }
   ],
   "source": [
    "a = np.array([25, 50, 75, 100])\n",
    "b = np.array([12, 23, 34, 45])\n",
    "\n",
    "print(\"a+b\", a+b)\n",
    "print(\"a-b\", a-b)\n",
    "print(\"a*b\", a*b)\n",
    "print(\"a * 0.5 (modifica tipo): \", (a*0.5))\n",
    "print(\"confronto a > 60\", (a>60))"
   ]
  },
  {
   "cell_type": "markdown",
   "metadata": {},
   "source": [
    "## generare array ##\n"
   ]
  },
  {
   "cell_type": "code",
   "execution_count": null,
   "metadata": {},
   "outputs": [],
   "source": []
  }
 ],
 "metadata": {
  "kernelspec": {
   "display_name": "Python 3",
   "language": "python",
   "name": "python3"
  },
  "language_info": {
   "codemirror_mode": {
    "name": "ipython",
    "version": 3
   },
   "file_extension": ".py",
   "mimetype": "text/x-python",
   "name": "python",
   "nbconvert_exporter": "python",
   "pygments_lexer": "ipython3",
   "version": "3.12.2"
  }
 },
 "nbformat": 4,
 "nbformat_minor": 2
}
