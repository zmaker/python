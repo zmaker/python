{
 "cells": [
  {
   "cell_type": "markdown",
   "id": "a72d83be-77a4-4bde-9001-68c866964cdb",
   "metadata": {},
   "source": [
    "# A cosa server Jupiter\n",
    "\n",
    "Come si installa e come si crea il primo notebook.\n",
    "https://www.dataquest.io/blog/jupyter-notebook-tutorial/ \n",
    "\n",
    "Jupyter Notebook is an incredibly powerful tool for interactively developing and presenting data science projects. It combines code, visualizations, narrative text, and other rich media into a single document, creating a cohesive and expressive workflow.\n",
    "\n",
    "*celle e kernel*\n",
    "\n",
    "\n"
   ]
  },
  {
   "cell_type": "code",
   "execution_count": 1,
   "id": "0c0d76ab-541e-43b3-8707-e160acf4b856",
   "metadata": {},
   "outputs": [
    {
     "name": "stdout",
     "output_type": "stream",
     "text": [
      "hello Python\n"
     ]
    }
   ],
   "source": [
    "print(\"hello Python\")"
   ]
  },
  {
   "cell_type": "markdown",
   "id": "ba121bb7-014e-465e-b659-c8b3af4cb47f",
   "metadata": {},
   "source": [
    "Nelle celle si può inserire ogni tipo di codice"
   ]
  },
  {
   "cell_type": "code",
   "execution_count": 2,
   "id": "e079b015-1a39-4ca2-8dce-ee92ca201a86",
   "metadata": {},
   "outputs": [
    {
     "name": "stdout",
     "output_type": "stream",
     "text": [
      "Ciao, mario\n"
     ]
    }
   ],
   "source": [
    "def fun1(name):\n",
    "    print(f\"Ciao, {name}\")\n",
    "fun1(\"mario\")"
   ]
  },
  {
   "cell_type": "code",
   "execution_count": 3,
   "id": "22e23ce1-fb39-4f80-8b8d-2f1652e43216",
   "metadata": {},
   "outputs": [
    {
     "name": "stdout",
     "output_type": "stream",
     "text": [
      "wait 3 sec\n"
     ]
    }
   ],
   "source": [
    "from time import sleep\n",
    "sleep(3)\n",
    "print(\"wait 3 sec\")"
   ]
  },
  {
   "cell_type": "markdown",
   "id": "02bee709-a44f-4b53-ad0d-4317ff57bb26",
   "metadata": {},
   "source": [
    "# This is a level 1 heading\n",
    "\n",
    "## This is a level 2 heading\n",
    "\n",
    "This is some plain text that forms a paragraph. Add emphasis via **bold** and __bold__, or *italic* and _italic_. \n",
    "\n",
    "Paragraphs must be separated by an empty line. \n",
    "\n",
    "* Sometimes we want to include lists. \n",
    "* Which can be bulleted using asterisks. \n",
    "\n",
    "1. Lists can also be numbered. \n",
    "2. If we want an ordered list.\n",
    "\n",
    "[It is possible to include hyperlinks](https://www.example.com)\n",
    "\n",
    "Inline code uses single backticks: foo(), and code blocks use triple backticks: \n",
    "```\n",
    "bar()\n",
    "``` \n",
    "Or can be indented by 4 spaces: \n",
    "\n",
    "    foo()\n",
    "\n",
    "And finally, adding images is easy: ![Alt text](https://www.example.com/image.jpg)"
   ]
  },
  {
   "cell_type": "markdown",
   "id": "6aec7056-441c-408b-8940-c79fa209695a",
   "metadata": {},
   "source": [
    "# celle e kernel\n",
    "definisco una variabile ed è visibile per tutte le altre celle\n"
   ]
  },
  {
   "cell_type": "code",
   "execution_count": 4,
   "id": "6bcd51a3-22d8-47ce-b2d3-6ca7dbdd7148",
   "metadata": {},
   "outputs": [],
   "source": [
    "a = 10\n"
   ]
  },
  {
   "cell_type": "code",
   "execution_count": 5,
   "id": "888296e4-ba7c-47a4-8b62-9082ba7c0e10",
   "metadata": {},
   "outputs": [
    {
     "name": "stdout",
     "output_type": "stream",
     "text": [
      "10\n"
     ]
    }
   ],
   "source": [
    "print(a)"
   ]
  },
  {
   "cell_type": "code",
   "execution_count": null,
   "id": "0dce3090-c51f-420a-be4e-1e7fe9bfdad5",
   "metadata": {},
   "outputs": [],
   "source": []
  }
 ],
 "metadata": {
  "kernelspec": {
   "display_name": "Python 3 (ipykernel)",
   "language": "python",
   "name": "python3"
  },
  "language_info": {
   "codemirror_mode": {
    "name": "ipython",
    "version": 3
   },
   "file_extension": ".py",
   "mimetype": "text/x-python",
   "name": "python",
   "nbconvert_exporter": "python",
   "pygments_lexer": "ipython3",
   "version": "3.8.2"
  }
 },
 "nbformat": 4,
 "nbformat_minor": 5
}
