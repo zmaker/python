{
 "cells": [
  {
   "cell_type": "markdown",
   "metadata": {},
   "source": [
    "## File di testo ##\n",
    "\n",
    "Creo un file di testo."
   ]
  },
  {
   "cell_type": "code",
   "execution_count": 18,
   "metadata": {},
   "outputs": [],
   "source": [
    "f = open(\"miofile.txt\", 'w') #creo in modalità scrittura W = write\n",
    "#scrivo delle informazioni con write\n",
    "f.write(\"hello\\n\")\n",
    "f.write(\"mele\")\n",
    "f.write(\" \")\n",
    "f.write(\"10kg\\n\")\n",
    "f.close() #il file va sempre chiuso"
   ]
  },
  {
   "cell_type": "markdown",
   "metadata": {},
   "source": [
    "Le operazioni di scritture di un file possono essere smepre problematiche e si possono avere degli errori, per questo si preferisce usare  __with__. Non è necessario chiamare la close(). \n",
    "\n",
    "Attenzione: il flag 'w' ricrea e distrugge il file."
   ]
  },
  {
   "cell_type": "code",
   "execution_count": 19,
   "metadata": {},
   "outputs": [],
   "source": [
    "with open(\"miofile.txt\", 'w') as f:\n",
    "    f.write(\"hello file\\n\")"
   ]
  },
  {
   "cell_type": "markdown",
   "metadata": {},
   "source": [
    "Per aggiungere testo al file esistente uso la modalità _append_ con il flag 'a'"
   ]
  },
  {
   "cell_type": "code",
   "execution_count": 23,
   "metadata": {},
   "outputs": [],
   "source": [
    "with open(\"miofile.txt\", 'a') as f:\n",
    "    f.write(\"una nuova linea aggiunta alla precedente\\n\")\n",
    "    f.write(\"------------\\n\")\n",
    "    f.write(\"altra linea\\n\")"
   ]
  },
  {
   "cell_type": "markdown",
   "metadata": {},
   "source": [
    "Per la lettura non indico nessun flag e uso il metodo __read()__"
   ]
  },
  {
   "cell_type": "code",
   "execution_count": 21,
   "metadata": {},
   "outputs": [
    {
     "name": "stdout",
     "output_type": "stream",
     "text": [
      "hello file\n",
      "una nuova linea aggiunta alla precedente\n",
      "\n"
     ]
    }
   ],
   "source": [
    "with open(\"miofile.txt\") as f:\n",
    "    testo = f.read()\n",
    "    print(testo)"
   ]
  },
  {
   "cell_type": "markdown",
   "metadata": {},
   "source": [
    "Posso leggere il file riga per riga"
   ]
  },
  {
   "cell_type": "code",
   "execution_count": 24,
   "metadata": {},
   "outputs": [
    {
     "name": "stdout",
     "output_type": "stream",
     "text": [
      "linee: 5\n",
      "> hello file\n",
      "> una nuova linea aggiunta alla precedente\n",
      "> una nuova linea aggiunta alla precedente\n",
      "> ------------\n",
      "> altra linea\n"
     ]
    }
   ],
   "source": [
    "with open(\"miofile.txt\") as f:\n",
    "    linee = f.readlines()\n",
    "    print(\"linee:\", len(linee))\n",
    "    for l in linee:\n",
    "        print(\">\", l, end='')"
   ]
  },
  {
   "cell_type": "markdown",
   "metadata": {},
   "source": [
    "## flag ##\n",
    "* r - lettura (default)\n",
    "* w - scrive e se esiste lo distrugge\n",
    "* a - append\n",
    "* x - scrive un file ma se esiste dà errore\n",
    "* b - file binario\n",
    "* t - file di testo\n",
    "* + - ibrido legge + scrive"
   ]
  },
  {
   "cell_type": "code",
   "execution_count": 26,
   "metadata": {},
   "outputs": [
    {
     "name": "stdout",
     "output_type": "stream",
     "text": [
      "il file esiste e non lo creo\n"
     ]
    }
   ],
   "source": [
    "try:\n",
    "    with open(\"miofile.txt\", 'x') as f:\n",
    "        f.write(\"hello file\\n\")\n",
    "except FileExistsError:\n",
    "    print(\"il file esiste e non lo creo\")"
   ]
  },
  {
   "cell_type": "markdown",
   "metadata": {},
   "source": [
    "Posso leggere anche un certo numero di caratteri indicandone il numero in read()"
   ]
  },
  {
   "cell_type": "code",
   "execution_count": 27,
   "metadata": {},
   "outputs": [
    {
     "name": "stdout",
     "output_type": "stream",
     "text": [
      "hello\n"
     ]
    }
   ],
   "source": [
    "with open(\"miofile.txt\") as f:\n",
    "    testo = f.read(5)\n",
    "    print(testo)"
   ]
  },
  {
   "cell_type": "markdown",
   "metadata": {},
   "source": [
    "__seek()__ mi permette di spostarmi nel file"
   ]
  },
  {
   "cell_type": "code",
   "execution_count": 32,
   "metadata": {},
   "outputs": [
    {
     "name": "stdout",
     "output_type": "stream",
     "text": [
      "hello file\n",
      "la posizione corrente: 10\n",
      "------\n",
      "hello file\n"
     ]
    }
   ],
   "source": [
    "with open(\"miofile.txt\") as f:\n",
    "    print(f.read(10))\n",
    "    print(\"la posizione corrente:\", f.tell())\n",
    "    print(\"------\")\n",
    "    f.seek(0) #riparto da 0\n",
    "    print(f.read(10))"
   ]
  },
  {
   "cell_type": "markdown",
   "metadata": {},
   "source": [
    "## File binari ##\n",
    "Creo un file binario"
   ]
  },
  {
   "cell_type": "code",
   "execution_count": 33,
   "metadata": {},
   "outputs": [],
   "source": [
    "with open('data.bin','wb') as f:\n",
    "    num = [5, 10, 15, 20, 25]\n",
    "    arr = bytearray(num)\n",
    "    f.write(arr)"
   ]
  },
  {
   "cell_type": "markdown",
   "metadata": {},
   "source": [
    "leggo il file binario"
   ]
  },
  {
   "cell_type": "code",
   "execution_count": 35,
   "metadata": {},
   "outputs": [
    {
     "name": "stdout",
     "output_type": "stream",
     "text": [
      "b'\\x05\\n\\x0f\\x14\\x19'\n"
     ]
    }
   ],
   "source": [
    "with open('data.bin', 'rb') as f:\n",
    "    dati = f.read()\n",
    "    print(dati)\n"
   ]
  },
  {
   "cell_type": "code",
   "execution_count": 36,
   "metadata": {},
   "outputs": [
    {
     "name": "stdout",
     "output_type": "stream",
     "text": [
      "0: b'\\x05'\n",
      "1: b'\\n'\n",
      "2: b'\\x0f'\n",
      "3: b'\\x14'\n",
      "4: b'\\x19'\n"
     ]
    }
   ],
   "source": [
    "with open('data.bin', 'rb') as f:\n",
    "    byte = f.read(1)\n",
    "    i = 0\n",
    "    while byte:    \n",
    "        print(f\"{i}: {byte}\")\n",
    "        byte = f.read(1)\n",
    "        i += 1"
   ]
  }
 ],
 "metadata": {
  "kernelspec": {
   "display_name": ".venv",
   "language": "python",
   "name": "python3"
  },
  "language_info": {
   "codemirror_mode": {
    "name": "ipython",
    "version": 3
   },
   "file_extension": ".py",
   "mimetype": "text/x-python",
   "name": "python",
   "nbconvert_exporter": "python",
   "pygments_lexer": "ipython3",
   "version": "3.12.2"
  }
 },
 "nbformat": 4,
 "nbformat_minor": 2
}
