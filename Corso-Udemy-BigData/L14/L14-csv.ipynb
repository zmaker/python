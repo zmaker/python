{
 "cells": [
  {
   "cell_type": "markdown",
   "metadata": {},
   "source": [
    "## File CSV ##"
   ]
  },
  {
   "cell_type": "code",
   "execution_count": 3,
   "metadata": {},
   "outputs": [
    {
     "name": "stdout",
     "output_type": "stream",
     "text": [
      "cod - nome - cognome - hobby\n",
      "1 - Mario - Rossi - Arduino\n",
      "2 - Luigi - Bianchi - python\n",
      "3 - Giuseppe - Verdi - musica\n",
      "4 - Anna - Viola - tennis\n"
     ]
    }
   ],
   "source": [
    "import csv\n",
    "with open(\"persone.csv\") as f:\n",
    "    cur = csv.reader(f, delimiter=',')\n",
    "    for riga in cur:\n",
    "        print(' - '.join(riga))"
   ]
  },
  {
   "cell_type": "code",
   "execution_count": 6,
   "metadata": {},
   "outputs": [
    {
     "name": "stdout",
     "output_type": "stream",
     "text": [
      "['cod', 'nome', 'cognome', 'hobby']\n",
      "['cod', 'nome', 'cognome', 'hobby']\n",
      "['1', 'Mario', 'Rossi', 'Arduino']\n",
      "['2', 'Luigi', 'Bianchi', 'python']\n",
      "['3', 'Giuseppe', 'Verdi', 'musica']\n",
      "['4', 'Anna', 'Viola', 'tennis']\n"
     ]
    }
   ],
   "source": [
    "import csv\n",
    "with open(\"persone.csv\") as f:\n",
    "    cur = csv.reader(f, delimiter=',')\n",
    "    lista = list(cur)    \n",
    "    print(lista[0])\n",
    "    for ll in lista:\n",
    "        print(ll)"
   ]
  },
  {
   "cell_type": "code",
   "execution_count": 12,
   "metadata": {},
   "outputs": [],
   "source": [
    "import csv\n",
    "with open('dati.csv', \"w\", newline='') as f:\n",
    "    cur = csv.writer(f, delimiter=',')\n",
    "    cur.writerow(['cod', 'nome', 'qta', 'prezzo'])\n",
    "    cur.writerow(['001', 'mele', 100, 1.9])\n",
    "    cur.writerow(['002', 'pere', 50, 1.7])\n",
    "    cur.writerow(['003', 'banane', 10, 0.9])"
   ]
  }
 ],
 "metadata": {
  "kernelspec": {
   "display_name": "Python 3",
   "language": "python",
   "name": "python3"
  },
  "language_info": {
   "codemirror_mode": {
    "name": "ipython",
    "version": 3
   },
   "file_extension": ".py",
   "mimetype": "text/x-python",
   "name": "python",
   "nbconvert_exporter": "python",
   "pygments_lexer": "ipython3",
   "version": "3.12.3"
  }
 },
 "nbformat": 4,
 "nbformat_minor": 2
}
